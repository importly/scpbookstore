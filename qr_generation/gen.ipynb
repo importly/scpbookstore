{
	"cells": [
		{
			"cell_type": "code",
			"execution_count": 13,
			"metadata": {},
			"outputs": [],
			"source": [
				"import qrcode\n",
				"import hashlib\n",
				"import os\n",
				"import sys\n",
				"from PIL import Image\n"
			]
		},
		{
			"cell_type": "code",
			"execution_count": 14,
			"metadata": {},
			"outputs": [],
			"source": [
				"\n",
				"imgs = []\n",
				"datas = []\n",
				"stuff = {1: \"bK6wrDtiQz9-pqgL_HC6GRCp_456ApDbGCaqK6wENj4\", 2:\n",
				"          \"ST1Iyh9NFpZIyG1SQv35Grfdh96Vxmj4-OMd0EPNcmI\", 3:\n",
				"          \"6HpcqteP6713AARjNG3uO8uhOjYgSfmh38XRc9Xo2N0\"}\n",
				"for i in stuff:\n",
				"    qr = qrcode.QRCode(\n",
				"        version=1,\n",
				"        error_correction=qrcode.constants.ERROR_CORRECT_M,\n",
				"        box_size=10,\n",
				"        border=4,\n",
				"    )\n",
				"\n",
				"    data = \"scpbooks.org/checkout/\" + stuff[i]\n",
				"    qr.add_data(data=data)\n",
				"    qr.make(fit=True)\n",
				"    img = qr.make_image(fill_color=\"black\", back_color=\"white\")\n",
				"    # add text on the image\n",
				"    \n",
				"    imgs.append(img)\n",
				"    datas.append(data)\n"
			]
		},
		{
			"cell_type": "code",
			"execution_count": 15,
			"metadata": {},
			"outputs": [
				{
					"name": "stdout",
					"output_type": "stream",
					"text": [
						"scpbooks.org/checkout/bK6wrDtiQz9-pqgL_HC6GRCp_456ApDbGCaqK6wENj4\n"
					]
				},
				{
					"data": {
						"image/png": "[encoded data removed]",
						"text/plain": [
							"<qrcode.image.pil.PilImage at 0x2a54cbd2910>"
						]
					},
					"metadata": {},
					"output_type": "display_data"
				},
				{
					"name": "stdout",
					"output_type": "stream",
					"text": [
						"scpbooks.org/checkout/ST1Iyh9NFpZIyG1SQv35Grfdh96Vxmj4-OMd0EPNcmI\n"
					]
				},
				{
					"data": {
						"image/png": "[encoded data removed]",
						"text/plain": [
							"<qrcode.image.pil.PilImage at 0x2a54dd3ee80>"
						]
					},
					"metadata": {},
					"output_type": "display_data"
				},
				{
					"name": "stdout",
					"output_type": "stream",
					"text": [
						"scpbooks.org/checkout/6HpcqteP6713AARjNG3uO8uhOjYgSfmh38XRc9Xo2N0\n"
					]
				},
				{
					"data": {
						"image/png": "[encoded data removed]",
						"text/plain": [
							"<qrcode.image.pil.PilImage at 0x2a54e50a5e0>"
						]
					},
					"metadata": {},
					"output_type": "display_data"
				}
			],
			"source": [
				"for i in range(len(imgs)):\n",
				"    print(datas[i])\n",
				"    display(imgs[i])\n"
			]
		}
	],
	"metadata": {
		"kernelspec": {
			"display_name": "Python 3.9.12 ('base')",
			"language": "python",
			"name": "python3"
		},
		"language_info": {
			"codemirror_mode": {
				"name": "ipython",
				"version": 3
			},
			"file_extension": ".py",
			"mimetype": "text/x-python",
			"name": "python",
			"nbconvert_exporter": "python",
			"pygments_lexer": "ipython3",
			"version": "3.9.12"
		},
		"orig_nbformat": 4,
		"vscode": {
			"interpreter": {
				"hash": "ad2bdc8ecc057115af97d19610ffacc2b4e99fae6737bb82f5d7fb13d2f2c186"
			}
		}
	},
	"nbformat": 4,
	"nbformat_minor": 2
}
