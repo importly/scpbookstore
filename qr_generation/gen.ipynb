{
 "cells": [
  {
   "cell_type": "code",
   "execution_count": 25,
   "metadata": {},
   "outputs": [],
   "source": [
    "import qrcode"
   ]
  },
  {
   "cell_type": "code",
   "execution_count": 26,
   "metadata": {},
   "outputs": [],
   "source": [
    "qr = qrcode.QRCode(\n",
    "    version=1,\n",
    "    error_correction=qrcode.constants.ERROR_CORRECT_M,\n",
    "    box_size=10,\n",
    "    border=4,\n",
    ")"
   ]
  },
  {
   "cell_type": "code",
   "execution_count": 27,
   "metadata": {},
   "outputs": [],
   "source": [
    "qr.add_data(data=\"https://scpbooks.org/books/7\")"
   ]
  },
  {
   "cell_type": "code",
   "execution_count": 28,
   "metadata": {},
   "outputs": [],
   "source": [
    "qr.make(fit=True)\n",
    "\n",
    "img = qr.make_image(fill_color=\"black\", back_color=\"white\")"
   ]
  },
  {
   "cell_type": "code",
   "execution_count": 29,
   "metadata": {},
   "outputs": [
    {
     "data": {
      "image/png": "[encoded data removed]",
      "text/plain": [
       "<qrcode.image.pil.PilImage at 0x1dbc80836d0>"
      ]
     },
     "execution_count": 29,
     "metadata": {},
     "output_type": "execute_result"
    }
   ],
   "source": [
    "img"
   ]
  },
  {
   "cell_type": "code",
   "execution_count": 30,
   "metadata": {},
   "outputs": [
    {
     "name": "stdout",
     "output_type": "stream",
     "text": [
      "█████████████████████████████████████\n",
      "█████████████████████████████████████\n",
      "████ ▄▄▄▄▄ █▀██ █▀▀▄ ▀▄███ ▄▄▄▄▄ ████\n",
      "████ █   █ █ █▄▄█▄█▄▀▀█▄▀█ █   █ ████\n",
      "████ █▄▄▄█ ██▄  ▄██ ▄ ▄▄ █ █▄▄▄█ ████\n",
      "████▄▄▄▄▄▄▄█ ▀ █▄█ ▀ █▄▀ █▄▄▄▄▄▄▄████\n",
      "████▄▀▀█▀▀▄▀ ▀▄  ▀██  ▀ ▀▄▄▀▀▄  █████\n",
      "█████▄  ▀█▄ ██▄ ▄ ▄▄▄▄▄▀ ▀ █▀▀███████\n",
      "█████ ▄   ▄█▀▄ ▄▀▄█▄ ██  █  ▀██▀ ████\n",
      "████ ▄██▀ ▄█▀▄▄█ ██▀█▄▄▀▀▀▄█ ▄ █▀████\n",
      "████▀▄ ▄▄█▄▀▄▀▄ ▀▀▀█▄  ▀ █▀ ▀▄ ▀▀████\n",
      "████ ▄▄▀▀█▄ ▄▀  █▀█▄███ ▀ ▀█▀▄██▄████\n",
      "████▄██▄█▄▄▄ ▀▄ ██ ▄█▄▄▄ ▄▄▄ ▀▄▄▄████\n",
      "████ ▄▄▄▄▄ ██▄▄▀ █▀▀▀▄█  █▄█ ▄▄██████\n",
      "████ █   █ ██▄▀ █  ██  ▄  ▄▄▄ ▀▀█████\n",
      "████ █▄▄▄█ ██  ▀▄ ▄▄  ▀▄▄█  ▄  ▄▀████\n",
      "████▄▄▄▄▄▄▄█▄▄▄███▄▄██████▄█▄▄▄██████\n",
      "█████████████████████████████████████\n",
      "▀▀▀▀▀▀▀▀▀▀▀▀▀▀▀▀▀▀▀▀▀▀▀▀▀▀▀▀▀▀▀▀▀▀▀▀▀\n"
     ]
    }
   ],
   "source": [
    "qr.print_ascii(invert=True);"
   ]
  },
  {
   "cell_type": "markdown",
   "metadata": {},
   "source": []
  }
 ],
 "metadata": {
  "kernelspec": {
   "display_name": "Python 3.9.12 ('base')",
   "language": "python",
   "name": "python3"
  },
  "language_info": {
   "codemirror_mode": {
    "name": "ipython",
    "version": 3
   },
   "file_extension": ".py",
   "mimetype": "text/x-python",
   "name": "python",
   "nbconvert_exporter": "python",
   "pygments_lexer": "ipython3",
   "version": "3.9.12"
  },
  "orig_nbformat": 4,
  "vscode": {
   "interpreter": {
    "hash": "ad2bdc8ecc057115af97d19610ffacc2b4e99fae6737bb82f5d7fb13d2f2c186"
   }
  }
 },
 "nbformat": 4,
 "nbformat_minor": 2
}
