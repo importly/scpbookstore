{
	"cells": [
		{
			"cell_type": "code",
			"execution_count": 4,
			"metadata": {},
			"outputs": [],
			"source": [
				"import qrcode\n",
				"import hashlib\n",
				"import os\n",
				"import sys\n",
				"from PIL import Image\n",
				"from PIL import ImageDraw\n",
				"from PIL import ImageFont\n"
			]
		},
		{
			"cell_type": "code",
			"execution_count": 5,
			"metadata": {},
			"outputs": [],
			"source": [
				"\n",
				"imgs = []\n",
				"datas = []\n",
				"stuff = {\"135\":\"d7cBSNVzU_NYQeB9v7W22OWl9gK1eBmfpP56ALTHWTE\", \"136\":\"cPE7xl4puJxMy-ELOBT686kEjDNLmMFX3TJiokvQcNs\", \"137\":\"AiCG83qrfRTp0J_OYA7huFrxb59_Fev_NBmt4NWeZrA\", \"138\":\"atttdoMgYevRowjaXVv76oZckx3Ab0IESb0qmFZiLWs\", \"139\":\"4aqA36dXZiiESJiQXGsfTil2H4bLDk0tv7oD-_vXnDQ\", \"140\":\"ixh04v9qBOCCkvQJwwDcVEYsjWsaUowwnYndTLmJGQg\", \"141\":\"2WXysg9nV45O1ZV4v5BEQO1BStK4CQsCoBNr9REeORk\", \"142\":\"US4KKFj_h9p-rpED7A4XZo_1joAczD1-cjboi1JsMyg\", \"143\":\"B_X-86YJCsPmytjkj42q0Wo_o1H3m77H4-7W2yOSuNw\", \"144\":\"ebX-Xd9ImhdjfuykuL73NOIBoBfKyeIiFbg5q0iP1LE\", \"145\":\"qOIqI6Zi1Q0zqLoavnJXNueWKuBct-Yb20RahNhXr3c\", \"146\":\"jngcjjSvvVlFsnyu53ovorQgz2BV4r68-STXC1dXfFQ\", \"147\":\"HTjxxgfcOT1r29N8VD8a4LKae-_zoFo0dJp7kfF4krU\", \"148\":\"1dJNTyEckmAYrWXx7s_4PlBueSlqDcYCXuIoUP6QYqw\", \"149\":\"VUHkJhFvO98HTQxuRu_9VYTwuwUF6fWjhr5lgrjUmus\", \"150\":\"NhxLSIaQLNX3hlR40IhvhotwXXfarXtnDerjVYNVpFQ\", \"151\":\"APiWU92WxlgwgVCojuoImZE5uJogXzvxM9uzwQDipfA\", \"152\":\"0d1W_-QhcsRn2610xooMZI0P5DASZqSYGoYvTIqE5HQ\", \"153\":\"eE_cUyzzTcW5ZyrCGy4mfKUnWdqPTQP2c1fE7WaPZT4\", \"154\":\"ftQF0H2EI3Vpk_MyFWD5BaS5i-1xzz2eAqVqGeZPnOQ\", \"155\":\"BE5u_DLrvD4d-GMbO9nnMqx61oLIwu3Qt0O-WRdB5LQ\", \"156\":\"JCuGVm72ca-9O9G2T5oiiMlg-j4On1d5WZmTQirsv0c\", \"157\":\"bLBTYQoQuukgrKmzywjcaxfxJN3riw8w-UvPexaOVFQ\", \"158\":\"0YTbFKmrYFmlwCkH2N2Qc5oSI6L_F2HNPy6DhnsVZ0c\", \"159\":\"vePF1oxBf1oBTh3iFL8SyvQZVyuOnn_x54WOjGuvNQc\", \"160\":\"BoKMfsMMnfJb9FWbycNV25QnQEKLBtxj2bzenOGi5Dc\", \"161\":\"jKa-tbPnCsdCeSSDOZcY0Q0Jh-VK2xQyu52iRZFLRsk\", \"162\":\"jvQ33oifl9OejuhbAz-23dbW5rnJE6vW6RcqQ1EkNok\", \"163\":\"jBgoX8L54WTB_2xhR6sEN6EM8CKXlhhe4SdEfN6RwhU\", \"164\":\"gWz-HdSKW6wBmJKFiA_r78p2kbgGW-HjRFkw3BCH-DQ\", \"165\":\"j30s0tk9HtL6eWQN3ImqRn1mVnO-wmc4p-AFXCcGhcU\", \"166\":\"hpyoZvah7CPm8w_7AMErKr4GveTu5-2qvk_IdVoHsvw\", \"167\":\"mR-f5bHCqAZrq3Sj898uWKvsE33VfpLK9A9kn6tLb6A\", \"168\":\"N5mYiFIpNLuC7-sH_ukBHW4lAHD_FOo6No7t13MChko\", \"169\":\"YhXsVNYo5IG3mv5VqDFm5A5SrM1IWqckAAk6RslZrxU\", \"170\":\"UePN-eHt8I9vrhs__6lA9xfa3ACkHpiiDetnCA3EKKo\", \"171\":\"GaoxkzAd2zHtSZiALjoH4apJ-nOg1kOS-AwRUH957K4\", \"172\":\"S87U_XKkycJzJjTYkJONUHNae32O9uxt1qix_Tw_0Sg\", \"173\":\"gnnCDvNgj4y3PM6HrziCutat5esBwQL1iMG6E7cN4QY\", \"174\":\"cimwBivoWeeQz_RcD56OAeXM-KdBfdzmLJ3k-u7QM_k\", \"175\":\"QJjopUs4zE0fPiajHQ-sZ8f3Jlsng7Xdhuip8kSeTb0\", \"176\":\"IoZwyglksSMJqI13-UAIJ1OGcGnCwcnhSa51ziXBCyg\", \"177\":\"DhHA2qFXJJhi6ryP_MvMFCD3Sj8QmcYFSLP1TTBc13c\", \"178\":\"RS5lESMmvuIBAV4DhOzIjPBU-i0YSef8Wf-eaAp1q6g\", \"179\":\"N55wnHzMRhVj_OhvI-krhEnR2Uenu3DsZQfd8ALjQWk\", \"180\":\"VGMNdXGPAkKo7YPDqtKY6tXMrqWg8QUKd3QtyF2SnRA\", \"181\":\"muzRJgRsYvtrBLgdSs-fbWRG04x-t5E2s7UssnP1Ipg\", \"182\":\"IJEpE5Rn9dnlb_VgzUtLngiF8EJFKk2rqhuwsZ49Uvo\", \"183\":\"9Tvzq_2pCyHidyaXfh_gTPPIR0i1nRjEUkmauXeITIY\", \"184\":\"ViUyujC8I-LgHiQpA5yioTv_5judHkaGmRO-WBYkZUo\"}\n",
				"for i in stuff:\n",
				"    qr = qrcode.QRCode(\n",
				"        version=1,\n",
				"        error_correction=qrcode.constants.ERROR_CORRECT_M,\n",
				"        box_size=10,\n",
				"        border=4,\n",
				"    )\n",
				"\n",
				"    data = \"scpbooks.org/checkout/\" + stuff[i]\n",
				"    qr.add_data(data=data)\n",
				"    qr.make(fit=True)\n",
				"    img = qr.make_image(fill_color=\"black\", back_color=\"white\")\n",
				"    # add text on the image\n",
				"    \n",
				"    thing = ImageDraw.Draw(img);\n",
				"    myFont = ImageFont.truetype('FiraCode-Regular.ttf', 25)\n",
				"    thing.text((0, 0), i, font=myFont, fill=\"black\")\n",
				"    \n",
				"    img.save(i + \".png\")\n",
				"    \n",
				"    \n",
				"    imgs.append(img)\n",
				"    datas.append(data)\n"
			]
		},
		{
			"cell_type": "code",
			"execution_count": 6,
			"metadata": {},
			"outputs": [
				{
					"name": "stdout",
					"output_type": "stream",
					"text": [
						"scpbooks.org/checkout/d7cBSNVzU_NYQeB9v7W22OWl9gK1eBmfpP56ALTHWTE\n"
					]
				},
				{
					"data": {
						"image/png": "[encoded data removed]",
						"text/plain": [
							"<qrcode.image.pil.PilImage at 0x28113ab9f40>"
						]
					},
					"metadata": {},
					"output_type": "display_data"
				},
				{
					"name": "stdout",
					"output_type": "stream",
					"text": [
						"scpbooks.org/checkout/cPE7xl4puJxMy-ELOBT686kEjDNLmMFX3TJiokvQcNs\n"
					]
				},
				{
					"data": {
						"image/png": "[encoded data removed]",
						"text/plain": [
							"<qrcode.image.pil.PilImage at 0x2811581eac0>"
						]
					},
					"metadata": {},
					"output_type": "display_data"
				},
				{
					"name": "stdout",
					"output_type": "stream",
					"text": [
						"scpbooks.org/checkout/AiCG83qrfRTp0J_OYA7huFrxb59_Fev_NBmt4NWeZrA\n"
					]
				},
				{
					"data": {
						"image/png": "[encoded data removed]",
						"text/plain": [
							"<qrcode.image.pil.PilImage at 0x2811585eeb0>"
						]
					},
					"metadata": {},
					"output_type": "display_data"
				},
				{
					"name": "stdout",
					"output_type": "stream",
					"text": [
						"scpbooks.org/checkout/atttdoMgYevRowjaXVv76oZckx3Ab0IESb0qmFZiLWs\n"
					]
				},
				{
					"data": {
						"image/png": "[encoded data removed]",
						"text/plain": [
							"<qrcode.image.pil.PilImage at 0x2811581e7f0>"
						]
					},
					"metadata": {},
					"output_type": "display_data"
				},
				{
					"name": "stdout",
					"output_type": "stream",
					"text": [
						"scpbooks.org/checkout/4aqA36dXZiiESJiQXGsfTil2H4bLDk0tv7oD-_vXnDQ\n"
					]
				},
				{
					"data": {
						"image/png": "[encoded data removed]",
						"text/plain": [
							"<qrcode.image.pil.PilImage at 0x2811581e430>"
						]
					},
					"metadata": {},
					"output_type": "display_data"
				},
				{
					"name": "stdout",
					"output_type": "stream",
					"text": [
						"scpbooks.org/checkout/ixh04v9qBOCCkvQJwwDcVEYsjWsaUowwnYndTLmJGQg\n"
					]
				},
				{
					"data": {
						"image/png": "[encoded data removed]",
						"text/plain": [
							"<qrcode.image.pil.PilImage at 0x2811585ed60>"
						]
					},
					"metadata": {},
					"output_type": "display_data"
				},
				{
					"name": "stdout",
					"output_type": "stream",
					"text": [
						"scpbooks.org/checkout/2WXysg9nV45O1ZV4v5BEQO1BStK4CQsCoBNr9REeORk\n"
					]
				},
				{
					"data": {
						"image/png": "[encoded data removed]",
						"text/plain": [
							"<qrcode.image.pil.PilImage at 0x2811585efa0>"
						]
					},
					"metadata": {},
					"output_type": "display_data"
				},
				{
					"name": "stdout",
					"output_type": "stream",
					"text": [
						"scpbooks.org/checkout/US4KKFj_h9p-rpED7A4XZo_1joAczD1-cjboi1JsMyg\n"
					]
				},
				{
					"data": {
						"image/png": "[encoded data removed]",
						"text/plain": [
							"<qrcode.image.pil.PilImage at 0x2811585ee80>"
						]
					},
					"metadata": {},
					"output_type": "display_data"
				},
				{
					"name": "stdout",
					"output_type": "stream",
					"text": [
						"scpbooks.org/checkout/B_X-86YJCsPmytjkj42q0Wo_o1H3m77H4-7W2yOSuNw\n"
					]
				},
				{
					"data": {
						"image/png": "[encoded data removed]",
						"text/plain": [
							"<qrcode.image.pil.PilImage at 0x2811585e370>"
						]
					},
					"metadata": {},
					"output_type": "display_data"
				},
				{
					"name": "stdout",
					"output_type": "stream",
					"text": [
						"scpbooks.org/checkout/ebX-Xd9ImhdjfuykuL73NOIBoBfKyeIiFbg5q0iP1LE\n"
					]
				},
				{
					"data": {
						"image/png": "[encoded data removed]",
						"text/plain": [
							"<qrcode.image.pil.PilImage at 0x28115854b50>"
						]
					},
					"metadata": {},
					"output_type": "display_data"
				},
				{
					"name": "stdout",
					"output_type": "stream",
					"text": [
						"scpbooks.org/checkout/qOIqI6Zi1Q0zqLoavnJXNueWKuBct-Yb20RahNhXr3c\n"
					]
				},
				{
					"data": {
						"image/png": "[encoded data removed]",
						"text/plain": [
							"<qrcode.image.pil.PilImage at 0x2811586c6a0>"
						]
					},
					"metadata": {},
					"output_type": "display_data"
				},
				{
					"name": "stdout",
					"output_type": "stream",
					"text": [
						"scpbooks.org/checkout/jngcjjSvvVlFsnyu53ovorQgz2BV4r68-STXC1dXfFQ\n"
					]
				},
				{
					"data": {
						"image/png": "[encoded data removed]",
						"text/plain": [
							"<qrcode.image.pil.PilImage at 0x2811586c6d0>"
						]
					},
					"metadata": {},
					"output_type": "display_data"
				},
				{
					"name": "stdout",
					"output_type": "stream",
					"text": [
						"scpbooks.org/checkout/HTjxxgfcOT1r29N8VD8a4LKae-_zoFo0dJp7kfF4krU\n"
					]
				},
				{
					"data": {
						"image/png": "[encoded data removed]",
						"text/plain": [
							"<qrcode.image.pil.PilImage at 0x28115854a00>"
						]
					},
					"metadata": {},
					"output_type": "display_data"
				},
				{
					"name": "stdout",
					"output_type": "stream",
					"text": [
						"scpbooks.org/checkout/1dJNTyEckmAYrWXx7s_4PlBueSlqDcYCXuIoUP6QYqw\n"
					]
				},
				{
					"data": {
						"image/png": "[encoded data removed]",
						"text/plain": [
							"<qrcode.image.pil.PilImage at 0x28115854130>"
						]
					},
					"metadata": {},
					"output_type": "display_data"
				},
				{
					"name": "stdout",
					"output_type": "stream",
					"text": [
						"scpbooks.org/checkout/VUHkJhFvO98HTQxuRu_9VYTwuwUF6fWjhr5lgrjUmus\n"
					]
				},
				{
					"data": {
						"image/png": "[encoded data removed]",
						"text/plain": [
							"<qrcode.image.pil.PilImage at 0x281158549a0>"
						]
					},
					"metadata": {},
					"output_type": "display_data"
				},
				{
					"name": "stdout",
					"output_type": "stream",
					"text": [
						"scpbooks.org/checkout/NhxLSIaQLNX3hlR40IhvhotwXXfarXtnDerjVYNVpFQ\n"
					]
				},
				{
					"data": {
						"image/png": "[encoded data removed]",
						"text/plain": [
							"<qrcode.image.pil.PilImage at 0x28115854070>"
						]
					},
					"metadata": {},
					"output_type": "display_data"
				},
				{
					"name": "stdout",
					"output_type": "stream",
					"text": [
						"scpbooks.org/checkout/APiWU92WxlgwgVCojuoImZE5uJogXzvxM9uzwQDipfA\n"
					]
				},
				{
					"data": {
						"image/png": "[encoded data removed]",
						"text/plain": [
							"<qrcode.image.pil.PilImage at 0x28115854100>"
						]
					},
					"metadata": {},
					"output_type": "display_data"
				},
				{
					"name": "stdout",
					"output_type": "stream",
					"text": [
						"scpbooks.org/checkout/0d1W_-QhcsRn2610xooMZI0P5DASZqSYGoYvTIqE5HQ\n"
					]
				},
				{
					"data": {
						"image/png": "[encoded data removed]",
						"text/plain": [
							"<qrcode.image.pil.PilImage at 0x281158540d0>"
						]
					},
					"metadata": {},
					"output_type": "display_data"
				},
				{
					"name": "stdout",
					"output_type": "stream",
					"text": [
						"scpbooks.org/checkout/eE_cUyzzTcW5ZyrCGy4mfKUnWdqPTQP2c1fE7WaPZT4\n"
					]
				},
				{
					"data": {
						"image/png": "[encoded data removed]",
						"text/plain": [
							"<qrcode.image.pil.PilImage at 0x28115846a00>"
						]
					},
					"metadata": {},
					"output_type": "display_data"
				},
				{
					"name": "stdout",
					"output_type": "stream",
					"text": [
						"scpbooks.org/checkout/ftQF0H2EI3Vpk_MyFWD5BaS5i-1xzz2eAqVqGeZPnOQ\n"
					]
				},
				{
					"data": {
						"image/png": "[encoded data removed]",
						"text/plain": [
							"<qrcode.image.pil.PilImage at 0x28115846b50>"
						]
					},
					"metadata": {},
					"output_type": "display_data"
				},
				{
					"name": "stdout",
					"output_type": "stream",
					"text": [
						"scpbooks.org/checkout/BE5u_DLrvD4d-GMbO9nnMqx61oLIwu3Qt0O-WRdB5LQ\n"
					]
				},
				{
					"data": {
						"image/png": "[encoded data removed]",
						"text/plain": [
							"<qrcode.image.pil.PilImage at 0x28115846be0>"
						]
					},
					"metadata": {},
					"output_type": "display_data"
				},
				{
					"name": "stdout",
					"output_type": "stream",
					"text": [
						"scpbooks.org/checkout/JCuGVm72ca-9O9G2T5oiiMlg-j4On1d5WZmTQirsv0c\n"
					]
				},
				{
					"data": {
						"image/png": "[encoded data removed]",
						"text/plain": [
							"<qrcode.image.pil.PilImage at 0x28115846c70>"
						]
					},
					"metadata": {},
					"output_type": "display_data"
				},
				{
					"name": "stdout",
					"output_type": "stream",
					"text": [
						"scpbooks.org/checkout/bLBTYQoQuukgrKmzywjcaxfxJN3riw8w-UvPexaOVFQ\n"
					]
				},
				{
					"data": {
						"image/png": "[encoded data removed]",
						"text/plain": [
							"<qrcode.image.pil.PilImage at 0x28114bce250>"
						]
					},
					"metadata": {},
					"output_type": "display_data"
				},
				{
					"name": "stdout",
					"output_type": "stream",
					"text": [
						"scpbooks.org/checkout/0YTbFKmrYFmlwCkH2N2Qc5oSI6L_F2HNPy6DhnsVZ0c\n"
					]
				},
				{
					"data": {
						"image/png": "[encoded data removed]",
						"text/plain": [
							"<qrcode.image.pil.PilImage at 0x28115846c10>"
						]
					},
					"metadata": {},
					"output_type": "display_data"
				},
				{
					"name": "stdout",
					"output_type": "stream",
					"text": [
						"scpbooks.org/checkout/vePF1oxBf1oBTh3iFL8SyvQZVyuOnn_x54WOjGuvNQc\n"
					]
				},
				{
					"data": {
						"image/png": "[encoded data removed]",
						"text/plain": [
							"<qrcode.image.pil.PilImage at 0x28115846ca0>"
						]
					},
					"metadata": {},
					"output_type": "display_data"
				},
				{
					"name": "stdout",
					"output_type": "stream",
					"text": [
						"scpbooks.org/checkout/BoKMfsMMnfJb9FWbycNV25QnQEKLBtxj2bzenOGi5Dc\n"
					]
				},
				{
					"data": {
						"image/png": "[encoded data removed]",
						"text/plain": [
							"<qrcode.image.pil.PilImage at 0x28115846d90>"
						]
					},
					"metadata": {},
					"output_type": "display_data"
				},
				{
					"name": "stdout",
					"output_type": "stream",
					"text": [
						"scpbooks.org/checkout/jKa-tbPnCsdCeSSDOZcY0Q0Jh-VK2xQyu52iRZFLRsk\n"
					]
				},
				{
					"data": {
						"image/png": "[encoded data removed]",
						"text/plain": [
							"<qrcode.image.pil.PilImage at 0x28115846bb0>"
						]
					},
					"metadata": {},
					"output_type": "display_data"
				},
				{
					"name": "stdout",
					"output_type": "stream",
					"text": [
						"scpbooks.org/checkout/jvQ33oifl9OejuhbAz-23dbW5rnJE6vW6RcqQ1EkNok\n"
					]
				},
				{
					"data": {
						"image/png": "[encoded data removed]",
						"text/plain": [
							"<qrcode.image.pil.PilImage at 0x28115846ac0>"
						]
					},
					"metadata": {},
					"output_type": "display_data"
				},
				{
					"name": "stdout",
					"output_type": "stream",
					"text": [
						"scpbooks.org/checkout/jBgoX8L54WTB_2xhR6sEN6EM8CKXlhhe4SdEfN6RwhU\n"
					]
				},
				{
					"data": {
						"image/png": "[encoded data removed]",
						"text/plain": [
							"<qrcode.image.pil.PilImage at 0x28115846b80>"
						]
					},
					"metadata": {},
					"output_type": "display_data"
				},
				{
					"name": "stdout",
					"output_type": "stream",
					"text": [
						"scpbooks.org/checkout/gWz-HdSKW6wBmJKFiA_r78p2kbgGW-HjRFkw3BCH-DQ\n"
					]
				},
				{
					"data": {
						"image/png": "[encoded data removed]",
						"text/plain": [
							"<qrcode.image.pil.PilImage at 0x281158469a0>"
						]
					},
					"metadata": {},
					"output_type": "display_data"
				},
				{
					"name": "stdout",
					"output_type": "stream",
					"text": [
						"scpbooks.org/checkout/j30s0tk9HtL6eWQN3ImqRn1mVnO-wmc4p-AFXCcGhcU\n"
					]
				},
				{
					"data": {
						"image/png": "[encoded data removed]",
						"text/plain": [
							"<qrcode.image.pil.PilImage at 0x2811566ad30>"
						]
					},
					"metadata": {},
					"output_type": "display_data"
				},
				{
					"name": "stdout",
					"output_type": "stream",
					"text": [
						"scpbooks.org/checkout/hpyoZvah7CPm8w_7AMErKr4GveTu5-2qvk_IdVoHsvw\n"
					]
				},
				{
					"data": {
						"image/png": "[encoded data removed]",
						"text/plain": [
							"<qrcode.image.pil.PilImage at 0x2811566adc0>"
						]
					},
					"metadata": {},
					"output_type": "display_data"
				},
				{
					"name": "stdout",
					"output_type": "stream",
					"text": [
						"scpbooks.org/checkout/mR-f5bHCqAZrq3Sj898uWKvsE33VfpLK9A9kn6tLb6A\n"
					]
				},
				{
					"data": {
						"image/png": "[encoded data removed]",
						"text/plain": [
							"<qrcode.image.pil.PilImage at 0x2811566ae50>"
						]
					},
					"metadata": {},
					"output_type": "display_data"
				},
				{
					"name": "stdout",
					"output_type": "stream",
					"text": [
						"scpbooks.org/checkout/N5mYiFIpNLuC7-sH_ukBHW4lAHD_FOo6No7t13MChko\n"
					]
				},
				{
					"data": {
						"image/png": "[encoded data removed]",
						"text/plain": [
							"<qrcode.image.pil.PilImage at 0x2811566aee0>"
						]
					},
					"metadata": {},
					"output_type": "display_data"
				},
				{
					"name": "stdout",
					"output_type": "stream",
					"text": [
						"scpbooks.org/checkout/YhXsVNYo5IG3mv5VqDFm5A5SrM1IWqckAAk6RslZrxU\n"
					]
				},
				{
					"data": {
						"image/png": "[encoded data removed]",
						"text/plain": [
							"<qrcode.image.pil.PilImage at 0x2811566af70>"
						]
					},
					"metadata": {},
					"output_type": "display_data"
				},
				{
					"name": "stdout",
					"output_type": "stream",
					"text": [
						"scpbooks.org/checkout/UePN-eHt8I9vrhs__6lA9xfa3ACkHpiiDetnCA3EKKo\n"
					]
				},
				{
					"data": {
						"image/png": "[encoded data removed]",
						"text/plain": [
							"<qrcode.image.pil.PilImage at 0x2811566a340>"
						]
					},
					"metadata": {},
					"output_type": "display_data"
				},
				{
					"name": "stdout",
					"output_type": "stream",
					"text": [
						"scpbooks.org/checkout/GaoxkzAd2zHtSZiALjoH4apJ-nOg1kOS-AwRUH957K4\n"
					]
				},
				{
					"data": {
						"image/png": "[encoded data removed]",
						"text/plain": [
							"<qrcode.image.pil.PilImage at 0x2811566af10>"
						]
					},
					"metadata": {},
					"output_type": "display_data"
				},
				{
					"name": "stdout",
					"output_type": "stream",
					"text": [
						"scpbooks.org/checkout/S87U_XKkycJzJjTYkJONUHNae32O9uxt1qix_Tw_0Sg\n"
					]
				},
				{
					"data": {
						"image/png": "[encoded data removed]",
						"text/plain": [
							"<qrcode.image.pil.PilImage at 0x28114bbf8b0>"
						]
					},
					"metadata": {},
					"output_type": "display_data"
				},
				{
					"name": "stdout",
					"output_type": "stream",
					"text": [
						"scpbooks.org/checkout/gnnCDvNgj4y3PM6HrziCutat5esBwQL1iMG6E7cN4QY\n"
					]
				},
				{
					"data": {
						"image/png": "[encoded data removed]",
						"text/plain": [
							"<qrcode.image.pil.PilImage at 0x28114bbf2b0>"
						]
					},
					"metadata": {},
					"output_type": "display_data"
				},
				{
					"name": "stdout",
					"output_type": "stream",
					"text": [
						"scpbooks.org/checkout/cimwBivoWeeQz_RcD56OAeXM-KdBfdzmLJ3k-u7QM_k\n"
					]
				},
				{
					"data": {
						"image/png": "[encoded data removed]",
						"text/plain": [
							"<qrcode.image.pil.PilImage at 0x28114bbfd90>"
						]
					},
					"metadata": {},
					"output_type": "display_data"
				},
				{
					"name": "stdout",
					"output_type": "stream",
					"text": [
						"scpbooks.org/checkout/QJjopUs4zE0fPiajHQ-sZ8f3Jlsng7Xdhuip8kSeTb0\n"
					]
				},
				{
					"data": {
						"image/png": "[encoded data removed]",
						"text/plain": [
							"<qrcode.image.pil.PilImage at 0x2811566a370>"
						]
					},
					"metadata": {},
					"output_type": "display_data"
				},
				{
					"name": "stdout",
					"output_type": "stream",
					"text": [
						"scpbooks.org/checkout/IoZwyglksSMJqI13-UAIJ1OGcGnCwcnhSa51ziXBCyg\n"
					]
				},
				{
					"data": {
						"image/png": "[encoded data removed]",
						"text/plain": [
							"<qrcode.image.pil.PilImage at 0x2811566afd0>"
						]
					},
					"metadata": {},
					"output_type": "display_data"
				},
				{
					"name": "stdout",
					"output_type": "stream",
					"text": [
						"scpbooks.org/checkout/DhHA2qFXJJhi6ryP_MvMFCD3Sj8QmcYFSLP1TTBc13c\n"
					]
				},
				{
					"data": {
						"image/png": "[encoded data removed]",
						"text/plain": [
							"<qrcode.image.pil.PilImage at 0x2811566af40>"
						]
					},
					"metadata": {},
					"output_type": "display_data"
				},
				{
					"name": "stdout",
					"output_type": "stream",
					"text": [
						"scpbooks.org/checkout/RS5lESMmvuIBAV4DhOzIjPBU-i0YSef8Wf-eaAp1q6g\n"
					]
				},
				{
					"data": {
						"image/png": "[encoded data removed]",
						"text/plain": [
							"<qrcode.image.pil.PilImage at 0x2811566a310>"
						]
					},
					"metadata": {},
					"output_type": "display_data"
				},
				{
					"name": "stdout",
					"output_type": "stream",
					"text": [
						"scpbooks.org/checkout/N55wnHzMRhVj_OhvI-krhEnR2Uenu3DsZQfd8ALjQWk\n"
					]
				},
				{
					"data": {
						"image/png": "[encoded data removed]",
						"text/plain": [
							"<qrcode.image.pil.PilImage at 0x2811566a220>"
						]
					},
					"metadata": {},
					"output_type": "display_data"
				},
				{
					"name": "stdout",
					"output_type": "stream",
					"text": [
						"scpbooks.org/checkout/VGMNdXGPAkKo7YPDqtKY6tXMrqWg8QUKd3QtyF2SnRA\n"
					]
				},
				{
					"data": {
						"image/png": "[encoded data removed]",
						"text/plain": [
							"<qrcode.image.pil.PilImage at 0x28115667ee0>"
						]
					},
					"metadata": {},
					"output_type": "display_data"
				},
				{
					"name": "stdout",
					"output_type": "stream",
					"text": [
						"scpbooks.org/checkout/muzRJgRsYvtrBLgdSs-fbWRG04x-t5E2s7UssnP1Ipg\n"
					]
				},
				{
					"data": {
						"image/png": "[encoded data removed]",
						"text/plain": [
							"<qrcode.image.pil.PilImage at 0x28115667e50>"
						]
					},
					"metadata": {},
					"output_type": "display_data"
				},
				{
					"name": "stdout",
					"output_type": "stream",
					"text": [
						"scpbooks.org/checkout/IJEpE5Rn9dnlb_VgzUtLngiF8EJFKk2rqhuwsZ49Uvo\n"
					]
				},
				{
					"data": {
						"image/png": "[encoded data removed]",
						"text/plain": [
							"<qrcode.image.pil.PilImage at 0x28115667af0>"
						]
					},
					"metadata": {},
					"output_type": "display_data"
				},
				{
					"name": "stdout",
					"output_type": "stream",
					"text": [
						"scpbooks.org/checkout/9Tvzq_2pCyHidyaXfh_gTPPIR0i1nRjEUkmauXeITIY\n"
					]
				},
				{
					"data": {
						"image/png": "[encoded data removed]",
						"text/plain": [
							"<qrcode.image.pil.PilImage at 0x281156671c0>"
						]
					},
					"metadata": {},
					"output_type": "display_data"
				},
				{
					"name": "stdout",
					"output_type": "stream",
					"text": [
						"scpbooks.org/checkout/ViUyujC8I-LgHiQpA5yioTv_5judHkaGmRO-WBYkZUo\n"
					]
				},
				{
					"data": {
						"image/png": "[encoded data removed]",
						"text/plain": [
							"<qrcode.image.pil.PilImage at 0x28115667970>"
						]
					},
					"metadata": {},
					"output_type": "display_data"
				}
			],
			"source": [
				"for i in range(len(imgs)):\n",
				"    print(datas[i])\n",
				"    display(imgs[i])\n"
			]
		}
	],
	"metadata": {
		"kernelspec": {
			"display_name": "Python 3.9.12 ('base')",
			"language": "python",
			"name": "python3"
		},
		"language_info": {
			"codemirror_mode": {
				"name": "ipython",
				"version": 3
			},
			"file_extension": ".py",
			"mimetype": "text/x-python",
			"name": "python",
			"nbconvert_exporter": "python",
			"pygments_lexer": "ipython3",
			"version": "3.9.12"
		},
		"orig_nbformat": 4,
		"vscode": {
			"interpreter": {
				"hash": "ad2bdc8ecc057115af97d19610ffacc2b4e99fae6737bb82f5d7fb13d2f2c186"
			}
		}
	},
	"nbformat": 4,
	"nbformat_minor": 2
}
