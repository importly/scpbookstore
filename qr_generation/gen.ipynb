{
	"cells": [
		{
			"cell_type": "code",
			"execution_count": 27,
			"metadata": {},
			"outputs": [],
			"source": [
				"import qrcode\n",
				"import hashlib\n",
				"import os\n",
				"import sys\n",
				"from PIL import Image\n",
				"from PIL import ImageDraw\n",
				"from PIL import ImageFont\n"
			]
		},
		{
			"cell_type": "code",
			"execution_count": 28,
			"metadata": {},
			"outputs": [],
			"source": [
				"\n",
				"imgs = []\n",
				"datas = []\n",
				"stuff = {\"1\":\"bK6wrDtiQz9-pqgL_HC6GRCp_456ApDbGCaqK6wENj4\",\n",
				"\"2\":\"ST1Iyh9NFpZIyG1SQv35Grfdh96Vxmj4-OMd0EPNcmI\",\n",
				"\"3\":\"6HpcqteP6713AARjNG3uO8uhOjYgSfmh38XRc9Xo2N0\",\n",
				"\"25\":\"UulAi1fk8_QII7UjHdWzPI-eAIg1rFyklU7sUF8Yhw8\",\n",
				"\"26\":\"4QtAGGQlvhiSsHWCNb_dB5DaszYgia-il2lkULK8is0\",\n",
				"\"27\":\"FCZueS9C_0f8ntub1f9R4NV8ZU5JLBXYP5YWvcosQPQ\",\n",
				"\"29\":\"s2nrQiIRw7OAUHSOKPPhU8svac0rznzz1BhDdl9Pjhc\",\n",
				"\"30\":\"RA0lZ8PVWgGW3hrP9dTNWRrDXydKs_zcCfjLh-tYia8\",\n",
				"\"38\":\"Mb1njzSufiQ0Yq8KMYlelGGNKHXWbFN-IwFYhj7EQrA\",\n",
				"\"39\":\"ijsifI7K5eZrs2s92P3PVeW6_5yZ-1dZuc4jnXHGZA4\",\n",
				"\"40\":\"s4rt7ogp-zt6hUCvsTtklpnbEbegs78o0OsvsswgLF8\",\n",
				"\"41\":\"DDz5QThvgMBMLan9HMn-Axoc-iIsDaBT90U6Xsap6K0\",\n",
				"\"42\":\"ARz8Oa7-zA-B3SvBEMCoLvFt7nH_njz5mZNhHs8c2B0\",\n",
				"\"43\":\"AUSTsdKhFQ7flWGRh7F5yVgnHwl_jlKiWklWwtiKBvc\",\n",
				"\"46\":\"NqCwr8SgwhHDrvJt90WW0wD418I0gP_kDbKpB6t0FC4\",\n",
				"\"47\":\"a2IPvd_G2Ft72HVDqi91FjgVhQ4yYxjCM2U38h7X6fI\",\n",
				"\"48\":\"11pxyP7uqel7UvjlGEMYhRwSSKZIf93fn9foOaSft38\",\n",
				"\"50\":\"TGOGC3XcsRG0Q3VTnjq0bPUq_k9yQYUNVPU8X41xQxI\",\n",
				"\"52\":\"MAi5zyAUqI-YspQTmAwqhqJevmLxd3GWgH1EYCFx894\",\n",
				"\"69\":\"obju8sO6Pv0mUGLh32i2SpHdvq1SZM3Cd3T7QP_Byuk\",\n",
				"\"70\":\"wcme3Wj3JGu91ecqfFEuPTr0qDForouKbaG_SD6PTOY\",\n",
				"\"71\":\"3lHN68paTCWQ5iaILo3LVSnoLosYFhF9u6E4tUZmwFk\",\n",
				"\"73\":\"rf_EMy3dbBzjR2B-Onw20MRXNJQwjnp8M6pneY0FPDM\",\n",
				"\"74\":\"DzdfCY6h8-o4zJ0F8bQgDIGPJ2L6kMaAkmJF9Q_9US8\",\n",
				"\"76\":\"0WN3nZQkOXZ2wdE0k078nP7YozKz56u50jdhI2lA-Cs\",\n",
				"\"77\":\"kUJfrbS7fQmBAzUvawB9eSbMKcYbZfZYGpe2lCHnlno\",\n",
				"\"79\":\"Xlk-6fP2rqsBnfiB9O4AOCzJm13UWDUM1H9-0zuOv2M\",\n",
				"\"80\":\"J2otjAMpSX0Xed88vbbce-C6RA8VmFoBLwRbTeE_usY\",\n",
				"\"81\":\"A88CVUkoBfzzCbw-83WzwsrDsf5sxS1ovKpv_u8g1f0\",\n",
				"\"82\":\"s7E0O_dULST4fEUcVVByeSwMun9S8T-AWnGcC5sfbm4\",\n",
				"\"83\":\"O6_phmTi7R93SVkXqkls-3llOIbgZeGBR5xAxigzmOg\",\n",
				"\"84\":\"0a2IXNb46vv8KDw5QXdZId8iyr7upjm-x9Q7KEaFfM8\",\n",
				"\"85\":\"132vZkceuDXWVGALSast8kZ-Bv7hvxZOiSe8PuD4_Bg\",\n",
				"\"89\":\"we0DtMHpIZxdf9uo32E1km9juGGjG97pel9bteUk9kE\",\n",
				"\"90\":\"hAeFrYMAUafzKSOATzwIxJKNtv7qpFTCEW1QCOCjaXA\",\n",
				"\"91\":\"JH4Fi2f4x6-n8lh_K1KvrLP8LWll8E4oKMvVdg8QJDA\",\n",
				"\"93\":\"8P0VsA3k1PiFAMQwjwqJ2yC0UKRw4m-Y_VKf_9JT8es\",\n",
				"\"100\":\"08fo9qa688hFWfOfXEmSrVhlo2YbkofHnnpsEbtz7Vo\",\n",
				"\"101\":\"LVV45_Xe2oNzdXOOO2RzSB-XuvdaXZMVsBTe1_1Go-4\",\n",
				"\"102\":\"PiI12pP7qqq-TnA8UNOfPvbuEcfkdzDEwoc2ewQsq1o\",\n",
				"\"103\":\"JQv5UXg-ITNm9lW7p-8kFUeaHYDogdVUEUdFV4t6jas\",\n",
				"\"104\":\"4mTPx-oLyElbOOSWp50c4BzATXaD8WTekr0FywUe9rQ\",\n",
				"\"105\":\"yNi8xQYylV9bq7C-gyOG3dMQbyA3ovFCv6wDy8Z8fA4\",\n",
				"\"106\":\"6e1rZk8lIBDTlbrWaeAxYeyM1lm1aW_L2WlKSoMO8Hc\",\n",
				"\"109\":\"fZxD9AHwXR1864P2XIssN18KZMKd7LxclTem65Ka8Rs\",\n",
				"\"111\":\"YH-yAonXQ3Wly59SI9AnsN-uk-Ko44Id2dY6f5XvsoA\",\n",
				"\"112\":\"Vcrutkyx-ZNFsRuFz2Kbtuuty02KRazc9J_8v8smAxQ\",\n",
				"\"113\":\"1LSpubfQ1JBZZgHDDcen5QXCxG91OoZvvYO0EdEGMl4\",\n",
				"\"114\":\"hhLb_xehy61Z7_nZhTxOJ79B7GwT6LA55rZuw5Y-SGk\",\n",
				"\"115\":\"EAuIkjuIVQ_nE2a3P7PHpJAihj92gWVhAowlIfLfgAg\",\n",
				"\"116\":\"YiP7iid_fEYP1bkqt-Oe7ZRemBcxfbi_TG0_iar-104\",\n",
				"\"118\":\"EZUVeOXRxDrYMBD0u5Jgsv5VDkqXeUFPLtz1kCeUs6g\",\n",
				"\"119\":\"fVf8gH3HJEdWEIm1ZmKpKbK24nekFgwUCFMq2kyfHQ4\",\n",
				"\"120\":\"g5i2-rJF1yg7UJfR_omc3yUE0801PTOrsPZDGTH9kCU\",\n",
				"\"122\":\"46YSRJKv8sq77x0Cm9dfYbD4DIya3zDd8Tec_3-qezs\",\n",
				"\"124\":\"EnI11nuucqaQMSgWyE6wqZWU3QXMT4SklY6EJfBr6us\",\n",
				"\"125\":\"NJKxKLXr1nsyVFQ1-ZJ0wCDWk-kSB3w9_iW8l8Th9A0\",\n",
				"\"126\":\"QvATlv2o4-wcW15Lp62H2PlYMO95zKvxXZdXLRwUUDY\",\n",
				"\"128\":\"7nedF8JZclE55Uxxcv5zVi39hGNHtBP1OCeSV7EO_Ng\",\n",
				"\"131\":\"5M0MJMkoeartV6nIlvl6S_UBtjo_wsHX75oqUYLMYYQ\",\n",
				"\"132\":\"dePEJWEmo751wz5fYGBr_4u8G6MicYbfmOejMCdCR4o\",}\n",
				"for i in stuff:\n",
				"    qr = qrcode.QRCode(\n",
				"        version=1,\n",
				"        error_correction=qrcode.constants.ERROR_CORRECT_M,\n",
				"        box_size=10,\n",
				"        border=4,\n",
				"    )\n",
				"\n",
				"    data = \"scpbooks.org/checkout/\" + stuff[i]\n",
				"    qr.add_data(data=data)\n",
				"    qr.make(fit=True)\n",
				"    img = qr.make_image(fill_color=\"black\", back_color=\"white\")\n",
				"    # add text on the image\n",
				"    \n",
				"    thing = ImageDraw.Draw(img);\n",
				"    myFont = ImageFont.truetype('FiraCode-Regular.ttf', 25)\n",
				"    thing.text((0, 0), i, font=myFont, fill=\"black\")\n",
				"    \n",
				"    img.save(i + \".png\")\n",
				"    \n",
				"    \n",
				"    imgs.append(img)\n",
				"    datas.append(data)\n"
			]
		},
		{
			"cell_type": "code",
			"execution_count": 29,
			"metadata": {},
			"outputs": [
				{
					"name": "stdout",
					"output_type": "stream",
					"text": [
						"scpbooks.org/checkout/bK6wrDtiQz9-pqgL_HC6GRCp_456ApDbGCaqK6wENj4\n"
					]
				},
				{
					"data": {
						"image/png": "[encoded data removed]",
						"text/plain": [
							"<qrcode.image.pil.PilImage at 0x18f48870eb0>"
						]
					},
					"metadata": {},
					"output_type": "display_data"
				},
				{
					"name": "stdout",
					"output_type": "stream",
					"text": [
						"scpbooks.org/checkout/ST1Iyh9NFpZIyG1SQv35Grfdh96Vxmj4-OMd0EPNcmI\n"
					]
				},
				{
					"data": {
						"image/png": "[encoded data removed]",
						"text/plain": [
							"<qrcode.image.pil.PilImage at 0x18f48825d60>"
						]
					},
					"metadata": {},
					"output_type": "display_data"
				},
				{
					"name": "stdout",
					"output_type": "stream",
					"text": [
						"scpbooks.org/checkout/6HpcqteP6713AARjNG3uO8uhOjYgSfmh38XRc9Xo2N0\n"
					]
				},
				{
					"data": {
						"image/png": "[encoded data removed]",
						"text/plain": [
							"<qrcode.image.pil.PilImage at 0x18f4744e0d0>"
						]
					},
					"metadata": {},
					"output_type": "display_data"
				},
				{
					"name": "stdout",
					"output_type": "stream",
					"text": [
						"scpbooks.org/checkout/UulAi1fk8_QII7UjHdWzPI-eAIg1rFyklU7sUF8Yhw8\n"
					]
				},
				{
					"data": {
						"image/png": "[encoded data removed]",
						"text/plain": [
							"<qrcode.image.pil.PilImage at 0x18f48825e80>"
						]
					},
					"metadata": {},
					"output_type": "display_data"
				},
				{
					"name": "stdout",
					"output_type": "stream",
					"text": [
						"scpbooks.org/checkout/4QtAGGQlvhiSsHWCNb_dB5DaszYgia-il2lkULK8is0\n"
					]
				},
				{
					"data": {
						"image/png": "[encoded data removed]",
						"text/plain": [
							"<qrcode.image.pil.PilImage at 0x18f4744e250>"
						]
					},
					"metadata": {},
					"output_type": "display_data"
				},
				{
					"name": "stdout",
					"output_type": "stream",
					"text": [
						"scpbooks.org/checkout/FCZueS9C_0f8ntub1f9R4NV8ZU5JLBXYP5YWvcosQPQ\n"
					]
				},
				{
					"data": {
						"image/png": "[encoded data removed]",
						"text/plain": [
							"<qrcode.image.pil.PilImage at 0x18f48825e50>"
						]
					},
					"metadata": {},
					"output_type": "display_data"
				},
				{
					"name": "stdout",
					"output_type": "stream",
					"text": [
						"scpbooks.org/checkout/s2nrQiIRw7OAUHSOKPPhU8svac0rznzz1BhDdl9Pjhc\n"
					]
				},
				{
					"data": {
						"image/png": "[encoded data removed]",
						"text/plain": [
							"<qrcode.image.pil.PilImage at 0x18f488487f0>"
						]
					},
					"metadata": {},
					"output_type": "display_data"
				},
				{
					"name": "stdout",
					"output_type": "stream",
					"text": [
						"scpbooks.org/checkout/RA0lZ8PVWgGW3hrP9dTNWRrDXydKs_zcCfjLh-tYia8\n"
					]
				},
				{
					"data": {
						"image/png": "[encoded data removed]",
						"text/plain": [
							"<qrcode.image.pil.PilImage at 0x18f48848970>"
						]
					},
					"metadata": {},
					"output_type": "display_data"
				},
				{
					"name": "stdout",
					"output_type": "stream",
					"text": [
						"scpbooks.org/checkout/Mb1njzSufiQ0Yq8KMYlelGGNKHXWbFN-IwFYhj7EQrA\n"
					]
				},
				{
					"data": {
						"image/png": "[encoded data removed]",
						"text/plain": [
							"<qrcode.image.pil.PilImage at 0x18f488485b0>"
						]
					},
					"metadata": {},
					"output_type": "display_data"
				},
				{
					"name": "stdout",
					"output_type": "stream",
					"text": [
						"scpbooks.org/checkout/ijsifI7K5eZrs2s92P3PVeW6_5yZ-1dZuc4jnXHGZA4\n"
					]
				},
				{
					"data": {
						"image/png": "[encoded data removed]",
						"text/plain": [
							"<qrcode.image.pil.PilImage at 0x18f48848df0>"
						]
					},
					"metadata": {},
					"output_type": "display_data"
				},
				{
					"name": "stdout",
					"output_type": "stream",
					"text": [
						"scpbooks.org/checkout/s4rt7ogp-zt6hUCvsTtklpnbEbegs78o0OsvsswgLF8\n"
					]
				},
				{
					"data": {
						"image/png": "[encoded data removed]",
						"text/plain": [
							"<qrcode.image.pil.PilImage at 0x18f48848cd0>"
						]
					},
					"metadata": {},
					"output_type": "display_data"
				},
				{
					"name": "stdout",
					"output_type": "stream",
					"text": [
						"scpbooks.org/checkout/DDz5QThvgMBMLan9HMn-Axoc-iIsDaBT90U6Xsap6K0\n"
					]
				},
				{
					"data": {
						"image/png": "[encoded data removed]",
						"text/plain": [
							"<qrcode.image.pil.PilImage at 0x18f488489d0>"
						]
					},
					"metadata": {},
					"output_type": "display_data"
				},
				{
					"name": "stdout",
					"output_type": "stream",
					"text": [
						"scpbooks.org/checkout/ARz8Oa7-zA-B3SvBEMCoLvFt7nH_njz5mZNhHs8c2B0\n"
					]
				},
				{
					"data": {
						"image/png": "[encoded data removed]",
						"text/plain": [
							"<qrcode.image.pil.PilImage at 0x18f488482e0>"
						]
					},
					"metadata": {},
					"output_type": "display_data"
				},
				{
					"name": "stdout",
					"output_type": "stream",
					"text": [
						"scpbooks.org/checkout/AUSTsdKhFQ7flWGRh7F5yVgnHwl_jlKiWklWwtiKBvc\n"
					]
				},
				{
					"data": {
						"image/png": "[encoded data removed]",
						"text/plain": [
							"<qrcode.image.pil.PilImage at 0x18f488489a0>"
						]
					},
					"metadata": {},
					"output_type": "display_data"
				},
				{
					"name": "stdout",
					"output_type": "stream",
					"text": [
						"scpbooks.org/checkout/NqCwr8SgwhHDrvJt90WW0wD418I0gP_kDbKpB6t0FC4\n"
					]
				},
				{
					"data": {
						"image/png": "[encoded data removed]",
						"text/plain": [
							"<qrcode.image.pil.PilImage at 0x18f48848ca0>"
						]
					},
					"metadata": {},
					"output_type": "display_data"
				},
				{
					"name": "stdout",
					"output_type": "stream",
					"text": [
						"scpbooks.org/checkout/a2IPvd_G2Ft72HVDqi91FjgVhQ4yYxjCM2U38h7X6fI\n"
					]
				},
				{
					"data": {
						"image/png": "[encoded data removed]",
						"text/plain": [
							"<qrcode.image.pil.PilImage at 0x18f48848dc0>"
						]
					},
					"metadata": {},
					"output_type": "display_data"
				},
				{
					"name": "stdout",
					"output_type": "stream",
					"text": [
						"scpbooks.org/checkout/11pxyP7uqel7UvjlGEMYhRwSSKZIf93fn9foOaSft38\n"
					]
				},
				{
					"data": {
						"image/png": "[encoded data removed]",
						"text/plain": [
							"<qrcode.image.pil.PilImage at 0x18f48848130>"
						]
					},
					"metadata": {},
					"output_type": "display_data"
				},
				{
					"name": "stdout",
					"output_type": "stream",
					"text": [
						"scpbooks.org/checkout/TGOGC3XcsRG0Q3VTnjq0bPUq_k9yQYUNVPU8X41xQxI\n"
					]
				},
				{
					"data": {
						"image/png": "[encoded data removed]",
						"text/plain": [
							"<qrcode.image.pil.PilImage at 0x18f488483a0>"
						]
					},
					"metadata": {},
					"output_type": "display_data"
				},
				{
					"name": "stdout",
					"output_type": "stream",
					"text": [
						"scpbooks.org/checkout/MAi5zyAUqI-YspQTmAwqhqJevmLxd3GWgH1EYCFx894\n"
					]
				},
				{
					"data": {
						"image/png": "[encoded data removed]",
						"text/plain": [
							"<qrcode.image.pil.PilImage at 0x18f488485e0>"
						]
					},
					"metadata": {},
					"output_type": "display_data"
				},
				{
					"name": "stdout",
					"output_type": "stream",
					"text": [
						"scpbooks.org/checkout/obju8sO6Pv0mUGLh32i2SpHdvq1SZM3Cd3T7QP_Byuk\n"
					]
				},
				{
					"data": {
						"image/png": "[encoded data removed]",
						"text/plain": [
							"<qrcode.image.pil.PilImage at 0x18f48848f10>"
						]
					},
					"metadata": {},
					"output_type": "display_data"
				},
				{
					"name": "stdout",
					"output_type": "stream",
					"text": [
						"scpbooks.org/checkout/wcme3Wj3JGu91ecqfFEuPTr0qDForouKbaG_SD6PTOY\n"
					]
				},
				{
					"data": {
						"image/png": "[encoded data removed]",
						"text/plain": [
							"<qrcode.image.pil.PilImage at 0x18f48848a00>"
						]
					},
					"metadata": {},
					"output_type": "display_data"
				},
				{
					"name": "stdout",
					"output_type": "stream",
					"text": [
						"scpbooks.org/checkout/3lHN68paTCWQ5iaILo3LVSnoLosYFhF9u6E4tUZmwFk\n"
					]
				},
				{
					"data": {
						"image/png": "[encoded data removed]",
						"text/plain": [
							"<qrcode.image.pil.PilImage at 0x18f48848040>"
						]
					},
					"metadata": {},
					"output_type": "display_data"
				},
				{
					"name": "stdout",
					"output_type": "stream",
					"text": [
						"scpbooks.org/checkout/rf_EMy3dbBzjR2B-Onw20MRXNJQwjnp8M6pneY0FPDM\n"
					]
				},
				{
					"data": {
						"image/png": "[encoded data removed]",
						"text/plain": [
							"<qrcode.image.pil.PilImage at 0x18f488488b0>"
						]
					},
					"metadata": {},
					"output_type": "display_data"
				},
				{
					"name": "stdout",
					"output_type": "stream",
					"text": [
						"scpbooks.org/checkout/DzdfCY6h8-o4zJ0F8bQgDIGPJ2L6kMaAkmJF9Q_9US8\n"
					]
				},
				{
					"data": {
						"image/png": "[encoded data removed]",
						"text/plain": [
							"<qrcode.image.pil.PilImage at 0x18f48848c40>"
						]
					},
					"metadata": {},
					"output_type": "display_data"
				},
				{
					"name": "stdout",
					"output_type": "stream",
					"text": [
						"scpbooks.org/checkout/0WN3nZQkOXZ2wdE0k078nP7YozKz56u50jdhI2lA-Cs\n"
					]
				},
				{
					"data": {
						"image/png": "[encoded data removed]",
						"text/plain": [
							"<qrcode.image.pil.PilImage at 0x18f48848b50>"
						]
					},
					"metadata": {},
					"output_type": "display_data"
				},
				{
					"name": "stdout",
					"output_type": "stream",
					"text": [
						"scpbooks.org/checkout/kUJfrbS7fQmBAzUvawB9eSbMKcYbZfZYGpe2lCHnlno\n"
					]
				},
				{
					"data": {
						"image/png": "[encoded data removed]",
						"text/plain": [
							"<qrcode.image.pil.PilImage at 0x18f488481c0>"
						]
					},
					"metadata": {},
					"output_type": "display_data"
				},
				{
					"name": "stdout",
					"output_type": "stream",
					"text": [
						"scpbooks.org/checkout/Xlk-6fP2rqsBnfiB9O4AOCzJm13UWDUM1H9-0zuOv2M\n"
					]
				},
				{
					"data": {
						"image/png": "[encoded data removed]",
						"text/plain": [
							"<qrcode.image.pil.PilImage at 0x18f48848d30>"
						]
					},
					"metadata": {},
					"output_type": "display_data"
				},
				{
					"name": "stdout",
					"output_type": "stream",
					"text": [
						"scpbooks.org/checkout/J2otjAMpSX0Xed88vbbce-C6RA8VmFoBLwRbTeE_usY\n"
					]
				},
				{
					"data": {
						"image/png": "[encoded data removed]",
						"text/plain": [
							"<qrcode.image.pil.PilImage at 0x18f48848250>"
						]
					},
					"metadata": {},
					"output_type": "display_data"
				},
				{
					"name": "stdout",
					"output_type": "stream",
					"text": [
						"scpbooks.org/checkout/A88CVUkoBfzzCbw-83WzwsrDsf5sxS1ovKpv_u8g1f0\n"
					]
				},
				{
					"data": {
						"image/png": "[encoded data removed]",
						"text/plain": [
							"<qrcode.image.pil.PilImage at 0x18f48848e80>"
						]
					},
					"metadata": {},
					"output_type": "display_data"
				},
				{
					"name": "stdout",
					"output_type": "stream",
					"text": [
						"scpbooks.org/checkout/s7E0O_dULST4fEUcVVByeSwMun9S8T-AWnGcC5sfbm4\n"
					]
				},
				{
					"data": {
						"image/png": "[encoded data removed]",
						"text/plain": [
							"<qrcode.image.pil.PilImage at 0x18f48848640>"
						]
					},
					"metadata": {},
					"output_type": "display_data"
				},
				{
					"name": "stdout",
					"output_type": "stream",
					"text": [
						"scpbooks.org/checkout/O6_phmTi7R93SVkXqkls-3llOIbgZeGBR5xAxigzmOg\n"
					]
				},
				{
					"data": {
						"image/png": "[encoded data removed]",
						"text/plain": [
							"<qrcode.image.pil.PilImage at 0x18f48848730>"
						]
					},
					"metadata": {},
					"output_type": "display_data"
				},
				{
					"name": "stdout",
					"output_type": "stream",
					"text": [
						"scpbooks.org/checkout/0a2IXNb46vv8KDw5QXdZId8iyr7upjm-x9Q7KEaFfM8\n"
					]
				},
				{
					"data": {
						"image/png": "[encoded data removed]",
						"text/plain": [
							"<qrcode.image.pil.PilImage at 0x18f48848e20>"
						]
					},
					"metadata": {},
					"output_type": "display_data"
				},
				{
					"name": "stdout",
					"output_type": "stream",
					"text": [
						"scpbooks.org/checkout/132vZkceuDXWVGALSast8kZ-Bv7hvxZOiSe8PuD4_Bg\n"
					]
				},
				{
					"data": {
						"image/png": "[encoded data removed]",
						"text/plain": [
							"<qrcode.image.pil.PilImage at 0x18f48848190>"
						]
					},
					"metadata": {},
					"output_type": "display_data"
				},
				{
					"name": "stdout",
					"output_type": "stream",
					"text": [
						"scpbooks.org/checkout/we0DtMHpIZxdf9uo32E1km9juGGjG97pel9bteUk9kE\n"
					]
				},
				{
					"data": {
						"image/png": "[encoded data removed]",
						"text/plain": [
							"<qrcode.image.pil.PilImage at 0x18f48848a30>"
						]
					},
					"metadata": {},
					"output_type": "display_data"
				},
				{
					"name": "stdout",
					"output_type": "stream",
					"text": [
						"scpbooks.org/checkout/hAeFrYMAUafzKSOATzwIxJKNtv7qpFTCEW1QCOCjaXA\n"
					]
				},
				{
					"data": {
						"image/png": "[encoded data removed]",
						"text/plain": [
							"<qrcode.image.pil.PilImage at 0x18f4887ec40>"
						]
					},
					"metadata": {},
					"output_type": "display_data"
				},
				{
					"name": "stdout",
					"output_type": "stream",
					"text": [
						"scpbooks.org/checkout/JH4Fi2f4x6-n8lh_K1KvrLP8LWll8E4oKMvVdg8QJDA\n"
					]
				},
				{
					"data": {
						"image/png": "[encoded data removed]",
						"text/plain": [
							"<qrcode.image.pil.PilImage at 0x18f4887ec70>"
						]
					},
					"metadata": {},
					"output_type": "display_data"
				},
				{
					"name": "stdout",
					"output_type": "stream",
					"text": [
						"scpbooks.org/checkout/8P0VsA3k1PiFAMQwjwqJ2yC0UKRw4m-Y_VKf_9JT8es\n"
					]
				},
				{
					"data": {
						"image/png": "[encoded data removed]",
						"text/plain": [
							"<qrcode.image.pil.PilImage at 0x18f4887e370>"
						]
					},
					"metadata": {},
					"output_type": "display_data"
				},
				{
					"name": "stdout",
					"output_type": "stream",
					"text": [
						"scpbooks.org/checkout/08fo9qa688hFWfOfXEmSrVhlo2YbkofHnnpsEbtz7Vo\n"
					]
				},
				{
					"data": {
						"image/png": "[encoded data removed]",
						"text/plain": [
							"<qrcode.image.pil.PilImage at 0x18f4887ea60>"
						]
					},
					"metadata": {},
					"output_type": "display_data"
				},
				{
					"name": "stdout",
					"output_type": "stream",
					"text": [
						"scpbooks.org/checkout/LVV45_Xe2oNzdXOOO2RzSB-XuvdaXZMVsBTe1_1Go-4\n"
					]
				},
				{
					"data": {
						"image/png": "[encoded data removed]",
						"text/plain": [
							"<qrcode.image.pil.PilImage at 0x18f4887e070>"
						]
					},
					"metadata": {},
					"output_type": "display_data"
				},
				{
					"name": "stdout",
					"output_type": "stream",
					"text": [
						"scpbooks.org/checkout/PiI12pP7qqq-TnA8UNOfPvbuEcfkdzDEwoc2ewQsq1o\n"
					]
				},
				{
					"data": {
						"image/png": "[encoded data removed]",
						"text/plain": [
							"<qrcode.image.pil.PilImage at 0x18f4887eac0>"
						]
					},
					"metadata": {},
					"output_type": "display_data"
				},
				{
					"name": "stdout",
					"output_type": "stream",
					"text": [
						"scpbooks.org/checkout/JQv5UXg-ITNm9lW7p-8kFUeaHYDogdVUEUdFV4t6jas\n"
					]
				},
				{
					"data": {
						"image/png": "[encoded data removed]",
						"text/plain": [
							"<qrcode.image.pil.PilImage at 0x18f4887e7c0>"
						]
					},
					"metadata": {},
					"output_type": "display_data"
				},
				{
					"name": "stdout",
					"output_type": "stream",
					"text": [
						"scpbooks.org/checkout/4mTPx-oLyElbOOSWp50c4BzATXaD8WTekr0FywUe9rQ\n"
					]
				},
				{
					"data": {
						"image/png": "[encoded data removed]",
						"text/plain": [
							"<qrcode.image.pil.PilImage at 0x18f4887e9d0>"
						]
					},
					"metadata": {},
					"output_type": "display_data"
				},
				{
					"name": "stdout",
					"output_type": "stream",
					"text": [
						"scpbooks.org/checkout/yNi8xQYylV9bq7C-gyOG3dMQbyA3ovFCv6wDy8Z8fA4\n"
					]
				},
				{
					"data": {
						"image/png": "[encoded data removed]",
						"text/plain": [
							"<qrcode.image.pil.PilImage at 0x18f4887e190>"
						]
					},
					"metadata": {},
					"output_type": "display_data"
				},
				{
					"name": "stdout",
					"output_type": "stream",
					"text": [
						"scpbooks.org/checkout/6e1rZk8lIBDTlbrWaeAxYeyM1lm1aW_L2WlKSoMO8Hc\n"
					]
				},
				{
					"data": {
						"image/png": "[encoded data removed]",
						"text/plain": [
							"<qrcode.image.pil.PilImage at 0x18f4887e9a0>"
						]
					},
					"metadata": {},
					"output_type": "display_data"
				},
				{
					"name": "stdout",
					"output_type": "stream",
					"text": [
						"scpbooks.org/checkout/fZxD9AHwXR1864P2XIssN18KZMKd7LxclTem65Ka8Rs\n"
					]
				},
				{
					"data": {
						"image/png": "[encoded data removed]",
						"text/plain": [
							"<qrcode.image.pil.PilImage at 0x18f4887eca0>"
						]
					},
					"metadata": {},
					"output_type": "display_data"
				},
				{
					"name": "stdout",
					"output_type": "stream",
					"text": [
						"scpbooks.org/checkout/YH-yAonXQ3Wly59SI9AnsN-uk-Ko44Id2dY6f5XvsoA\n"
					]
				},
				{
					"data": {
						"image/png": "[encoded data removed]",
						"text/plain": [
							"<qrcode.image.pil.PilImage at 0x18f4887e1c0>"
						]
					},
					"metadata": {},
					"output_type": "display_data"
				},
				{
					"name": "stdout",
					"output_type": "stream",
					"text": [
						"scpbooks.org/checkout/Vcrutkyx-ZNFsRuFz2Kbtuuty02KRazc9J_8v8smAxQ\n"
					]
				},
				{
					"data": {
						"image/png": "[encoded data removed]",
						"text/plain": [
							"<qrcode.image.pil.PilImage at 0x18f4887ea90>"
						]
					},
					"metadata": {},
					"output_type": "display_data"
				},
				{
					"name": "stdout",
					"output_type": "stream",
					"text": [
						"scpbooks.org/checkout/1LSpubfQ1JBZZgHDDcen5QXCxG91OoZvvYO0EdEGMl4\n"
					]
				},
				{
					"data": {
						"image/png": "[encoded data removed]",
						"text/plain": [
							"<qrcode.image.pil.PilImage at 0x18f4887e310>"
						]
					},
					"metadata": {},
					"output_type": "display_data"
				},
				{
					"name": "stdout",
					"output_type": "stream",
					"text": [
						"scpbooks.org/checkout/hhLb_xehy61Z7_nZhTxOJ79B7GwT6LA55rZuw5Y-SGk\n"
					]
				},
				{
					"data": {
						"image/png": "[encoded data removed]",
						"text/plain": [
							"<qrcode.image.pil.PilImage at 0x18f4887cb20>"
						]
					},
					"metadata": {},
					"output_type": "display_data"
				},
				{
					"name": "stdout",
					"output_type": "stream",
					"text": [
						"scpbooks.org/checkout/EAuIkjuIVQ_nE2a3P7PHpJAihj92gWVhAowlIfLfgAg\n"
					]
				},
				{
					"data": {
						"image/png": "[encoded data removed]",
						"text/plain": [
							"<qrcode.image.pil.PilImage at 0x18f4887cfa0>"
						]
					},
					"metadata": {},
					"output_type": "display_data"
				},
				{
					"name": "stdout",
					"output_type": "stream",
					"text": [
						"scpbooks.org/checkout/YiP7iid_fEYP1bkqt-Oe7ZRemBcxfbi_TG0_iar-104\n"
					]
				},
				{
					"data": {
						"image/png": "[encoded data removed]",
						"text/plain": [
							"<qrcode.image.pil.PilImage at 0x18f4887ca90>"
						]
					},
					"metadata": {},
					"output_type": "display_data"
				},
				{
					"name": "stdout",
					"output_type": "stream",
					"text": [
						"scpbooks.org/checkout/EZUVeOXRxDrYMBD0u5Jgsv5VDkqXeUFPLtz1kCeUs6g\n"
					]
				},
				{
					"data": {
						"image/png": "[encoded data removed]",
						"text/plain": [
							"<qrcode.image.pil.PilImage at 0x18f4887cdf0>"
						]
					},
					"metadata": {},
					"output_type": "display_data"
				},
				{
					"name": "stdout",
					"output_type": "stream",
					"text": [
						"scpbooks.org/checkout/fVf8gH3HJEdWEIm1ZmKpKbK24nekFgwUCFMq2kyfHQ4\n"
					]
				},
				{
					"data": {
						"image/png": "[encoded data removed]",
						"text/plain": [
							"<qrcode.image.pil.PilImage at 0x18f49813040>"
						]
					},
					"metadata": {},
					"output_type": "display_data"
				},
				{
					"name": "stdout",
					"output_type": "stream",
					"text": [
						"scpbooks.org/checkout/g5i2-rJF1yg7UJfR_omc3yUE0801PTOrsPZDGTH9kCU\n"
					]
				},
				{
					"data": {
						"image/png": "[encoded data removed]",
						"text/plain": [
							"<qrcode.image.pil.PilImage at 0x18f49813070>"
						]
					},
					"metadata": {},
					"output_type": "display_data"
				},
				{
					"name": "stdout",
					"output_type": "stream",
					"text": [
						"scpbooks.org/checkout/46YSRJKv8sq77x0Cm9dfYbD4DIya3zDd8Tec_3-qezs\n"
					]
				},
				{
					"data": {
						"image/png": "[encoded data removed]",
						"text/plain": [
							"<qrcode.image.pil.PilImage at 0x18f495effd0>"
						]
					},
					"metadata": {},
					"output_type": "display_data"
				},
				{
					"name": "stdout",
					"output_type": "stream",
					"text": [
						"scpbooks.org/checkout/EnI11nuucqaQMSgWyE6wqZWU3QXMT4SklY6EJfBr6us\n"
					]
				},
				{
					"data": {
						"image/png": "[encoded data removed]",
						"text/plain": [
							"<qrcode.image.pil.PilImage at 0x18f48bbc400>"
						]
					},
					"metadata": {},
					"output_type": "display_data"
				},
				{
					"name": "stdout",
					"output_type": "stream",
					"text": [
						"scpbooks.org/checkout/NJKxKLXr1nsyVFQ1-ZJ0wCDWk-kSB3w9_iW8l8Th9A0\n"
					]
				},
				{
					"data": {
						"image/png": "[encoded data removed]",
						"text/plain": [
							"<qrcode.image.pil.PilImage at 0x18f4887c520>"
						]
					},
					"metadata": {},
					"output_type": "display_data"
				},
				{
					"name": "stdout",
					"output_type": "stream",
					"text": [
						"scpbooks.org/checkout/QvATlv2o4-wcW15Lp62H2PlYMO95zKvxXZdXLRwUUDY\n"
					]
				},
				{
					"data": {
						"image/png": "[encoded data removed]",
						"text/plain": [
							"<qrcode.image.pil.PilImage at 0x18f4887c430>"
						]
					},
					"metadata": {},
					"output_type": "display_data"
				},
				{
					"name": "stdout",
					"output_type": "stream",
					"text": [
						"scpbooks.org/checkout/7nedF8JZclE55Uxxcv5zVi39hGNHtBP1OCeSV7EO_Ng\n"
					]
				},
				{
					"data": {
						"image/png": "[encoded data removed]",
						"text/plain": [
							"<qrcode.image.pil.PilImage at 0x18f4887ccd0>"
						]
					},
					"metadata": {},
					"output_type": "display_data"
				},
				{
					"name": "stdout",
					"output_type": "stream",
					"text": [
						"scpbooks.org/checkout/5M0MJMkoeartV6nIlvl6S_UBtjo_wsHX75oqUYLMYYQ\n"
					]
				},
				{
					"data": {
						"image/png": "[encoded data removed]",
						"text/plain": [
							"<qrcode.image.pil.PilImage at 0x18f4887c670>"
						]
					},
					"metadata": {},
					"output_type": "display_data"
				},
				{
					"name": "stdout",
					"output_type": "stream",
					"text": [
						"scpbooks.org/checkout/dePEJWEmo751wz5fYGBr_4u8G6MicYbfmOejMCdCR4o\n"
					]
				},
				{
					"data": {
						"image/png": "[encoded data removed]",
						"text/plain": [
							"<qrcode.image.pil.PilImage at 0x18f495d43d0>"
						]
					},
					"metadata": {},
					"output_type": "display_data"
				}
			],
			"source": [
				"for i in range(len(imgs)):\n",
				"    print(datas[i])\n",
				"    display(imgs[i])\n"
			]
		}
	],
	"metadata": {
		"kernelspec": {
			"display_name": "Python 3.9.12 ('base')",
			"language": "python",
			"name": "python3"
		},
		"language_info": {
			"codemirror_mode": {
				"name": "ipython",
				"version": 3
			},
			"file_extension": ".py",
			"mimetype": "text/x-python",
			"name": "python",
			"nbconvert_exporter": "python",
			"pygments_lexer": "ipython3",
			"version": "3.9.12"
		},
		"orig_nbformat": 4,
		"vscode": {
			"interpreter": {
				"hash": "ad2bdc8ecc057115af97d19610ffacc2b4e99fae6737bb82f5d7fb13d2f2c186"
			}
		}
	},
	"nbformat": 4,
	"nbformat_minor": 2
}
